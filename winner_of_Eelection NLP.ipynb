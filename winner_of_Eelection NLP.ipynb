{
  "nbformat": 4,
  "nbformat_minor": 0,
  "metadata": {
    "colab": {
      "name": "winner of Eelection.ipynb",
      "provenance": [],
      "collapsed_sections": []
    },
    "kernelspec": {
      "name": "python3",
      "display_name": "Python 3"
    },
    "language_info": {
      "name": "python"
    }
  },
  "cells": [
    {
      "cell_type": "markdown",
      "source": [
        "#Sentiment Analysis"
      ],
      "metadata": {
        "id": "WfF4KPOeGCaY"
      }
    },
    {
      "cell_type": "markdown",
      "source": [
        "What is Sentiment Analysis?\n",
        "\n",
        "The algorithms of sentiment analysis principally specialize in process opinions, attitudes, and even emoticons in an exceedingly corpus of texts. The vary of established sentiments considerably varies from one technique to a different. whereas a customary analyzer defines up to a few basic polar emotions (positive, negative, neutral), the limit of additional advanced models is broader."
      ],
      "metadata": {
        "id": "MiPrP6EdGDEW"
      }
    },
    {
      "cell_type": "code",
      "execution_count": null,
      "metadata": {
        "id": "oMcGm--ynipe"
      },
      "outputs": [],
      "source": [
        "import pandas as pd\n",
        "import numpy as np"
      ]
    },
    {
      "cell_type": "code",
      "source": [
        "trump= pd.read_csv('/content/drive/MyDrive/3..US Elections/Bidenall2.csv')\n",
        "biden=pd.read_csv('/content/drive/MyDrive/3..US Elections/Trumpall2.csv')\n"
      ],
      "metadata": {
        "id": "98sBrd1Dn2kg"
      },
      "execution_count": null,
      "outputs": []
    },
    {
      "cell_type": "code",
      "source": [
        "trump.head()"
      ],
      "metadata": {
        "colab": {
          "base_uri": "https://localhost:8080/",
          "height": 206
        },
        "id": "HJxDBV_ooUcA",
        "outputId": "ced75046-3bd9-49ce-85dd-c9961987040b"
      },
      "execution_count": null,
      "outputs": [
        {
          "output_type": "execute_result",
          "data": {
            "text/plain": [
              "           user                                               text\n",
              "0   MarkHodder3    @JoeBiden And we’ll find out who won in 2026...\n",
              "1    K87327961G  @JoeBiden Your Democratic Nazi Party cannot be...\n",
              "2      OldlaceA                        @JoeBiden So did Lying Barr\n",
              "3    penblogger  @JoeBiden It's clear you didnt compose this tw...\n",
              "4  Aquarian0264         @JoeBiden I will vote in person thank you."
            ],
            "text/html": [
              "\n",
              "  <div id=\"df-695593a8-ca61-476b-b1e9-d18142972645\">\n",
              "    <div class=\"colab-df-container\">\n",
              "      <div>\n",
              "<style scoped>\n",
              "    .dataframe tbody tr th:only-of-type {\n",
              "        vertical-align: middle;\n",
              "    }\n",
              "\n",
              "    .dataframe tbody tr th {\n",
              "        vertical-align: top;\n",
              "    }\n",
              "\n",
              "    .dataframe thead th {\n",
              "        text-align: right;\n",
              "    }\n",
              "</style>\n",
              "<table border=\"1\" class=\"dataframe\">\n",
              "  <thead>\n",
              "    <tr style=\"text-align: right;\">\n",
              "      <th></th>\n",
              "      <th>user</th>\n",
              "      <th>text</th>\n",
              "    </tr>\n",
              "  </thead>\n",
              "  <tbody>\n",
              "    <tr>\n",
              "      <th>0</th>\n",
              "      <td>MarkHodder3</td>\n",
              "      <td>@JoeBiden And we’ll find out who won in 2026...</td>\n",
              "    </tr>\n",
              "    <tr>\n",
              "      <th>1</th>\n",
              "      <td>K87327961G</td>\n",
              "      <td>@JoeBiden Your Democratic Nazi Party cannot be...</td>\n",
              "    </tr>\n",
              "    <tr>\n",
              "      <th>2</th>\n",
              "      <td>OldlaceA</td>\n",
              "      <td>@JoeBiden So did Lying Barr</td>\n",
              "    </tr>\n",
              "    <tr>\n",
              "      <th>3</th>\n",
              "      <td>penblogger</td>\n",
              "      <td>@JoeBiden It's clear you didnt compose this tw...</td>\n",
              "    </tr>\n",
              "    <tr>\n",
              "      <th>4</th>\n",
              "      <td>Aquarian0264</td>\n",
              "      <td>@JoeBiden I will vote in person thank you.</td>\n",
              "    </tr>\n",
              "  </tbody>\n",
              "</table>\n",
              "</div>\n",
              "      <button class=\"colab-df-convert\" onclick=\"convertToInteractive('df-695593a8-ca61-476b-b1e9-d18142972645')\"\n",
              "              title=\"Convert this dataframe to an interactive table.\"\n",
              "              style=\"display:none;\">\n",
              "        \n",
              "  <svg xmlns=\"http://www.w3.org/2000/svg\" height=\"24px\"viewBox=\"0 0 24 24\"\n",
              "       width=\"24px\">\n",
              "    <path d=\"M0 0h24v24H0V0z\" fill=\"none\"/>\n",
              "    <path d=\"M18.56 5.44l.94 2.06.94-2.06 2.06-.94-2.06-.94-.94-2.06-.94 2.06-2.06.94zm-11 1L8.5 8.5l.94-2.06 2.06-.94-2.06-.94L8.5 2.5l-.94 2.06-2.06.94zm10 10l.94 2.06.94-2.06 2.06-.94-2.06-.94-.94-2.06-.94 2.06-2.06.94z\"/><path d=\"M17.41 7.96l-1.37-1.37c-.4-.4-.92-.59-1.43-.59-.52 0-1.04.2-1.43.59L10.3 9.45l-7.72 7.72c-.78.78-.78 2.05 0 2.83L4 21.41c.39.39.9.59 1.41.59.51 0 1.02-.2 1.41-.59l7.78-7.78 2.81-2.81c.8-.78.8-2.07 0-2.86zM5.41 20L4 18.59l7.72-7.72 1.47 1.35L5.41 20z\"/>\n",
              "  </svg>\n",
              "      </button>\n",
              "      \n",
              "  <style>\n",
              "    .colab-df-container {\n",
              "      display:flex;\n",
              "      flex-wrap:wrap;\n",
              "      gap: 12px;\n",
              "    }\n",
              "\n",
              "    .colab-df-convert {\n",
              "      background-color: #E8F0FE;\n",
              "      border: none;\n",
              "      border-radius: 50%;\n",
              "      cursor: pointer;\n",
              "      display: none;\n",
              "      fill: #1967D2;\n",
              "      height: 32px;\n",
              "      padding: 0 0 0 0;\n",
              "      width: 32px;\n",
              "    }\n",
              "\n",
              "    .colab-df-convert:hover {\n",
              "      background-color: #E2EBFA;\n",
              "      box-shadow: 0px 1px 2px rgba(60, 64, 67, 0.3), 0px 1px 3px 1px rgba(60, 64, 67, 0.15);\n",
              "      fill: #174EA6;\n",
              "    }\n",
              "\n",
              "    [theme=dark] .colab-df-convert {\n",
              "      background-color: #3B4455;\n",
              "      fill: #D2E3FC;\n",
              "    }\n",
              "\n",
              "    [theme=dark] .colab-df-convert:hover {\n",
              "      background-color: #434B5C;\n",
              "      box-shadow: 0px 1px 3px 1px rgba(0, 0, 0, 0.15);\n",
              "      filter: drop-shadow(0px 1px 2px rgba(0, 0, 0, 0.3));\n",
              "      fill: #FFFFFF;\n",
              "    }\n",
              "  </style>\n",
              "\n",
              "      <script>\n",
              "        const buttonEl =\n",
              "          document.querySelector('#df-695593a8-ca61-476b-b1e9-d18142972645 button.colab-df-convert');\n",
              "        buttonEl.style.display =\n",
              "          google.colab.kernel.accessAllowed ? 'block' : 'none';\n",
              "\n",
              "        async function convertToInteractive(key) {\n",
              "          const element = document.querySelector('#df-695593a8-ca61-476b-b1e9-d18142972645');\n",
              "          const dataTable =\n",
              "            await google.colab.kernel.invokeFunction('convertToInteractive',\n",
              "                                                     [key], {});\n",
              "          if (!dataTable) return;\n",
              "\n",
              "          const docLinkHtml = 'Like what you see? Visit the ' +\n",
              "            '<a target=\"_blank\" href=https://colab.research.google.com/notebooks/data_table.ipynb>data table notebook</a>'\n",
              "            + ' to learn more about interactive tables.';\n",
              "          element.innerHTML = '';\n",
              "          dataTable['output_type'] = 'display_data';\n",
              "          await google.colab.output.renderOutput(dataTable, element);\n",
              "          const docLink = document.createElement('div');\n",
              "          docLink.innerHTML = docLinkHtml;\n",
              "          element.appendChild(docLink);\n",
              "        }\n",
              "      </script>\n",
              "    </div>\n",
              "  </div>\n",
              "  "
            ]
          },
          "metadata": {},
          "execution_count": 27
        }
      ]
    },
    {
      "cell_type": "code",
      "source": [
        "biden.head()"
      ],
      "metadata": {
        "colab": {
          "base_uri": "https://localhost:8080/",
          "height": 206
        },
        "id": "vcbgfvZ0oY74",
        "outputId": "ca0b488b-ec6f-4130-e2c8-863bbf44aff9"
      },
      "execution_count": null,
      "outputs": [
        {
          "output_type": "execute_result",
          "data": {
            "text/plain": [
              "              user                                               text\n",
              "0      manny_rosen   @sanofi please tell us how many shares the Cr...\n",
              "1        osi_abdul   https://t.co/atM98CpqF7  Like, comment, RT #P...\n",
              "2          Patsyrw   Your AG Barr is as useless &amp; corrupt as y...\n",
              "3  seyedebrahimi_m   Mr. Trump! Wake Up!  Most of the comments bel...\n",
              "4    James09254677   After 4 years you think you would have figure..."
            ],
            "text/html": [
              "\n",
              "  <div id=\"df-20ee34c6-17df-4e2a-93f9-3c8a8a893e6f\">\n",
              "    <div class=\"colab-df-container\">\n",
              "      <div>\n",
              "<style scoped>\n",
              "    .dataframe tbody tr th:only-of-type {\n",
              "        vertical-align: middle;\n",
              "    }\n",
              "\n",
              "    .dataframe tbody tr th {\n",
              "        vertical-align: top;\n",
              "    }\n",
              "\n",
              "    .dataframe thead th {\n",
              "        text-align: right;\n",
              "    }\n",
              "</style>\n",
              "<table border=\"1\" class=\"dataframe\">\n",
              "  <thead>\n",
              "    <tr style=\"text-align: right;\">\n",
              "      <th></th>\n",
              "      <th>user</th>\n",
              "      <th>text</th>\n",
              "    </tr>\n",
              "  </thead>\n",
              "  <tbody>\n",
              "    <tr>\n",
              "      <th>0</th>\n",
              "      <td>manny_rosen</td>\n",
              "      <td>@sanofi please tell us how many shares the Cr...</td>\n",
              "    </tr>\n",
              "    <tr>\n",
              "      <th>1</th>\n",
              "      <td>osi_abdul</td>\n",
              "      <td>https://t.co/atM98CpqF7  Like, comment, RT #P...</td>\n",
              "    </tr>\n",
              "    <tr>\n",
              "      <th>2</th>\n",
              "      <td>Patsyrw</td>\n",
              "      <td>Your AG Barr is as useless &amp;amp; corrupt as y...</td>\n",
              "    </tr>\n",
              "    <tr>\n",
              "      <th>3</th>\n",
              "      <td>seyedebrahimi_m</td>\n",
              "      <td>Mr. Trump! Wake Up!  Most of the comments bel...</td>\n",
              "    </tr>\n",
              "    <tr>\n",
              "      <th>4</th>\n",
              "      <td>James09254677</td>\n",
              "      <td>After 4 years you think you would have figure...</td>\n",
              "    </tr>\n",
              "  </tbody>\n",
              "</table>\n",
              "</div>\n",
              "      <button class=\"colab-df-convert\" onclick=\"convertToInteractive('df-20ee34c6-17df-4e2a-93f9-3c8a8a893e6f')\"\n",
              "              title=\"Convert this dataframe to an interactive table.\"\n",
              "              style=\"display:none;\">\n",
              "        \n",
              "  <svg xmlns=\"http://www.w3.org/2000/svg\" height=\"24px\"viewBox=\"0 0 24 24\"\n",
              "       width=\"24px\">\n",
              "    <path d=\"M0 0h24v24H0V0z\" fill=\"none\"/>\n",
              "    <path d=\"M18.56 5.44l.94 2.06.94-2.06 2.06-.94-2.06-.94-.94-2.06-.94 2.06-2.06.94zm-11 1L8.5 8.5l.94-2.06 2.06-.94-2.06-.94L8.5 2.5l-.94 2.06-2.06.94zm10 10l.94 2.06.94-2.06 2.06-.94-2.06-.94-.94-2.06-.94 2.06-2.06.94z\"/><path d=\"M17.41 7.96l-1.37-1.37c-.4-.4-.92-.59-1.43-.59-.52 0-1.04.2-1.43.59L10.3 9.45l-7.72 7.72c-.78.78-.78 2.05 0 2.83L4 21.41c.39.39.9.59 1.41.59.51 0 1.02-.2 1.41-.59l7.78-7.78 2.81-2.81c.8-.78.8-2.07 0-2.86zM5.41 20L4 18.59l7.72-7.72 1.47 1.35L5.41 20z\"/>\n",
              "  </svg>\n",
              "      </button>\n",
              "      \n",
              "  <style>\n",
              "    .colab-df-container {\n",
              "      display:flex;\n",
              "      flex-wrap:wrap;\n",
              "      gap: 12px;\n",
              "    }\n",
              "\n",
              "    .colab-df-convert {\n",
              "      background-color: #E8F0FE;\n",
              "      border: none;\n",
              "      border-radius: 50%;\n",
              "      cursor: pointer;\n",
              "      display: none;\n",
              "      fill: #1967D2;\n",
              "      height: 32px;\n",
              "      padding: 0 0 0 0;\n",
              "      width: 32px;\n",
              "    }\n",
              "\n",
              "    .colab-df-convert:hover {\n",
              "      background-color: #E2EBFA;\n",
              "      box-shadow: 0px 1px 2px rgba(60, 64, 67, 0.3), 0px 1px 3px 1px rgba(60, 64, 67, 0.15);\n",
              "      fill: #174EA6;\n",
              "    }\n",
              "\n",
              "    [theme=dark] .colab-df-convert {\n",
              "      background-color: #3B4455;\n",
              "      fill: #D2E3FC;\n",
              "    }\n",
              "\n",
              "    [theme=dark] .colab-df-convert:hover {\n",
              "      background-color: #434B5C;\n",
              "      box-shadow: 0px 1px 3px 1px rgba(0, 0, 0, 0.15);\n",
              "      filter: drop-shadow(0px 1px 2px rgba(0, 0, 0, 0.3));\n",
              "      fill: #FFFFFF;\n",
              "    }\n",
              "  </style>\n",
              "\n",
              "      <script>\n",
              "        const buttonEl =\n",
              "          document.querySelector('#df-20ee34c6-17df-4e2a-93f9-3c8a8a893e6f button.colab-df-convert');\n",
              "        buttonEl.style.display =\n",
              "          google.colab.kernel.accessAllowed ? 'block' : 'none';\n",
              "\n",
              "        async function convertToInteractive(key) {\n",
              "          const element = document.querySelector('#df-20ee34c6-17df-4e2a-93f9-3c8a8a893e6f');\n",
              "          const dataTable =\n",
              "            await google.colab.kernel.invokeFunction('convertToInteractive',\n",
              "                                                     [key], {});\n",
              "          if (!dataTable) return;\n",
              "\n",
              "          const docLinkHtml = 'Like what you see? Visit the ' +\n",
              "            '<a target=\"_blank\" href=https://colab.research.google.com/notebooks/data_table.ipynb>data table notebook</a>'\n",
              "            + ' to learn more about interactive tables.';\n",
              "          element.innerHTML = '';\n",
              "          dataTable['output_type'] = 'display_data';\n",
              "          await google.colab.output.renderOutput(dataTable, element);\n",
              "          const docLink = document.createElement('div');\n",
              "          docLink.innerHTML = docLinkHtml;\n",
              "          element.appendChild(docLink);\n",
              "        }\n",
              "      </script>\n",
              "    </div>\n",
              "  </div>\n",
              "  "
            ]
          },
          "metadata": {},
          "execution_count": 28
        }
      ]
    },
    {
      "cell_type": "code",
      "source": [
        "trump['text']"
      ],
      "metadata": {
        "id": "HLrnKDl8odR9",
        "colab": {
          "base_uri": "https://localhost:8080/"
        },
        "outputId": "676be24f-fe5b-4907-e117-3ccd1c1c60aa"
      },
      "execution_count": null,
      "outputs": [
        {
          "output_type": "execute_result",
          "data": {
            "text/plain": [
              "0         @JoeBiden And we’ll find out who won in 2026...\n",
              "1       @JoeBiden Your Democratic Nazi Party cannot be...\n",
              "2                             @JoeBiden So did Lying Barr\n",
              "3       @JoeBiden It's clear you didnt compose this tw...\n",
              "4              @JoeBiden I will vote in person thank you.\n",
              "                              ...                        \n",
              "2535    @JoeBiden You'll just try to calm those waters...\n",
              "2536    @JoeBiden 96 days 96 dias #VoteJoeBiden2020  #...\n",
              "2537    @JoeBiden YOU THINK YOU CAN DO THAT??? YOU CAN...\n",
              "2538    @JoeBiden Trump wants our children back at sch...\n",
              "2539    @JoeBiden ... and I know, because it’s much co...\n",
              "Name: text, Length: 2540, dtype: object"
            ]
          },
          "metadata": {},
          "execution_count": 29
        }
      ]
    },
    {
      "cell_type": "code",
      "source": [
        "# !pip install textblob\n"
      ],
      "metadata": {
        "id": "vqnzVAkM-Unp"
      },
      "execution_count": null,
      "outputs": []
    },
    {
      "cell_type": "markdown",
      "source": [
        "Let’s see some basics of TextBlob, It uses NLTK (Natural Language ToolKit) and the input contains a single sentence, The output of TextBlob is polarity and subjectivity. Polarity score lies between (-1 to 1) where -1 identifies the most negative words such as ‘disgusting’, ‘awful’, ‘pathetic’, and 1 identifies the most positive words like ‘excellent’, ‘best’. Subjectivity score lies between (0 and 1), It shows the amount of personal opinion, If a sentence has high subjectivity i.e. close to 1, It resembles that the text contains more personal opinion than factual information. I was more concerned about the Polarity score as my objective was not to identify factual information, so I skipped the subjectivity score in my project."
      ],
      "metadata": {
        "id": "UFDMdatBFlBf"
      }
    },
    {
      "cell_type": "markdown",
      "source": [
        "![0 AKhXaCaRV5mM3t2w.png](data:image/png;base64,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)"
      ],
      "metadata": {
        "id": "YavVKmSfGZuR"
      }
    },
    {
      "cell_type": "code",
      "source": [
        "from textblob import TextBlob"
      ],
      "metadata": {
        "id": "4t41uDZe-VQh"
      },
      "execution_count": null,
      "outputs": []
    },
    {
      "cell_type": "code",
      "source": [
        "textblob1=TextBlob(trump['text'][0])\n",
        "textblob1.sentiment"
      ],
      "metadata": {
        "colab": {
          "base_uri": "https://localhost:8080/"
        },
        "id": "DgkuHkqb-VbN",
        "outputId": "00ab1715-c5b1-44d5-a60e-3e55dc9820bf"
      },
      "execution_count": null,
      "outputs": [
        {
          "output_type": "execute_result",
          "data": {
            "text/plain": [
              "Sentiment(polarity=0.0, subjectivity=0.0)"
            ]
          },
          "metadata": {},
          "execution_count": 32
        }
      ]
    },
    {
      "cell_type": "markdown",
      "source": [
        "Observation: We can see the output is categorized between two — Polarity and Subjectivity.\n",
        "\n",
        "Polarity is a float value within the range [-1.0 to 1.0] where 0 indicates neutral, +1 indicates a very positive sentiment and -1 represents a very negative sentiment.\n",
        "\n",
        "Subjectivity is a float value within the range [0.0 to 1.0] where 0.0 is very objective and 1.0 is very subjective. Subjective sentence expresses some personal feelings, views, beliefs, opinions, allegations, desires, beliefs, suspicions, and speculations where as Objective sentences are factual."
      ],
      "metadata": {
        "id": "WwkdxNAPG144"
      }
    },
    {
      "cell_type": "code",
      "source": [
        " def find_pol(review):\n",
        "   return TextBlob(review).sentiment.polarity"
      ],
      "metadata": {
        "id": "KTo9Z_Ev_xgb"
      },
      "execution_count": null,
      "outputs": []
    },
    {
      "cell_type": "code",
      "source": [
        "trump['sentiment_polarity']=trump['text'].apply(find_pol)\n"
      ],
      "metadata": {
        "id": "dgPEGjaCLBSm"
      },
      "execution_count": null,
      "outputs": []
    },
    {
      "cell_type": "code",
      "source": [
        "trump.head()"
      ],
      "metadata": {
        "colab": {
          "base_uri": "https://localhost:8080/",
          "height": 206
        },
        "id": "Wzg0g3BiLquV",
        "outputId": "05272a0d-3ba2-43a0-cc5c-62d62db4c76c"
      },
      "execution_count": null,
      "outputs": [
        {
          "output_type": "execute_result",
          "data": {
            "text/plain": [
              "           user                                               text  \\\n",
              "0   MarkHodder3    @JoeBiden And we’ll find out who won in 2026...   \n",
              "1    K87327961G  @JoeBiden Your Democratic Nazi Party cannot be...   \n",
              "2      OldlaceA                        @JoeBiden So did Lying Barr   \n",
              "3    penblogger  @JoeBiden It's clear you didnt compose this tw...   \n",
              "4  Aquarian0264         @JoeBiden I will vote in person thank you.   \n",
              "\n",
              "   sentiment_polarity  \n",
              "0                0.00  \n",
              "1                0.00  \n",
              "2                0.00  \n",
              "3                0.05  \n",
              "4                0.00  "
            ],
            "text/html": [
              "\n",
              "  <div id=\"df-f29c2ea9-ef1c-47e4-987e-2a30a5e96a17\">\n",
              "    <div class=\"colab-df-container\">\n",
              "      <div>\n",
              "<style scoped>\n",
              "    .dataframe tbody tr th:only-of-type {\n",
              "        vertical-align: middle;\n",
              "    }\n",
              "\n",
              "    .dataframe tbody tr th {\n",
              "        vertical-align: top;\n",
              "    }\n",
              "\n",
              "    .dataframe thead th {\n",
              "        text-align: right;\n",
              "    }\n",
              "</style>\n",
              "<table border=\"1\" class=\"dataframe\">\n",
              "  <thead>\n",
              "    <tr style=\"text-align: right;\">\n",
              "      <th></th>\n",
              "      <th>user</th>\n",
              "      <th>text</th>\n",
              "      <th>sentiment_polarity</th>\n",
              "    </tr>\n",
              "  </thead>\n",
              "  <tbody>\n",
              "    <tr>\n",
              "      <th>0</th>\n",
              "      <td>MarkHodder3</td>\n",
              "      <td>@JoeBiden And we’ll find out who won in 2026...</td>\n",
              "      <td>0.00</td>\n",
              "    </tr>\n",
              "    <tr>\n",
              "      <th>1</th>\n",
              "      <td>K87327961G</td>\n",
              "      <td>@JoeBiden Your Democratic Nazi Party cannot be...</td>\n",
              "      <td>0.00</td>\n",
              "    </tr>\n",
              "    <tr>\n",
              "      <th>2</th>\n",
              "      <td>OldlaceA</td>\n",
              "      <td>@JoeBiden So did Lying Barr</td>\n",
              "      <td>0.00</td>\n",
              "    </tr>\n",
              "    <tr>\n",
              "      <th>3</th>\n",
              "      <td>penblogger</td>\n",
              "      <td>@JoeBiden It's clear you didnt compose this tw...</td>\n",
              "      <td>0.05</td>\n",
              "    </tr>\n",
              "    <tr>\n",
              "      <th>4</th>\n",
              "      <td>Aquarian0264</td>\n",
              "      <td>@JoeBiden I will vote in person thank you.</td>\n",
              "      <td>0.00</td>\n",
              "    </tr>\n",
              "  </tbody>\n",
              "</table>\n",
              "</div>\n",
              "      <button class=\"colab-df-convert\" onclick=\"convertToInteractive('df-f29c2ea9-ef1c-47e4-987e-2a30a5e96a17')\"\n",
              "              title=\"Convert this dataframe to an interactive table.\"\n",
              "              style=\"display:none;\">\n",
              "        \n",
              "  <svg xmlns=\"http://www.w3.org/2000/svg\" height=\"24px\"viewBox=\"0 0 24 24\"\n",
              "       width=\"24px\">\n",
              "    <path d=\"M0 0h24v24H0V0z\" fill=\"none\"/>\n",
              "    <path d=\"M18.56 5.44l.94 2.06.94-2.06 2.06-.94-2.06-.94-.94-2.06-.94 2.06-2.06.94zm-11 1L8.5 8.5l.94-2.06 2.06-.94-2.06-.94L8.5 2.5l-.94 2.06-2.06.94zm10 10l.94 2.06.94-2.06 2.06-.94-2.06-.94-.94-2.06-.94 2.06-2.06.94z\"/><path d=\"M17.41 7.96l-1.37-1.37c-.4-.4-.92-.59-1.43-.59-.52 0-1.04.2-1.43.59L10.3 9.45l-7.72 7.72c-.78.78-.78 2.05 0 2.83L4 21.41c.39.39.9.59 1.41.59.51 0 1.02-.2 1.41-.59l7.78-7.78 2.81-2.81c.8-.78.8-2.07 0-2.86zM5.41 20L4 18.59l7.72-7.72 1.47 1.35L5.41 20z\"/>\n",
              "  </svg>\n",
              "      </button>\n",
              "      \n",
              "  <style>\n",
              "    .colab-df-container {\n",
              "      display:flex;\n",
              "      flex-wrap:wrap;\n",
              "      gap: 12px;\n",
              "    }\n",
              "\n",
              "    .colab-df-convert {\n",
              "      background-color: #E8F0FE;\n",
              "      border: none;\n",
              "      border-radius: 50%;\n",
              "      cursor: pointer;\n",
              "      display: none;\n",
              "      fill: #1967D2;\n",
              "      height: 32px;\n",
              "      padding: 0 0 0 0;\n",
              "      width: 32px;\n",
              "    }\n",
              "\n",
              "    .colab-df-convert:hover {\n",
              "      background-color: #E2EBFA;\n",
              "      box-shadow: 0px 1px 2px rgba(60, 64, 67, 0.3), 0px 1px 3px 1px rgba(60, 64, 67, 0.15);\n",
              "      fill: #174EA6;\n",
              "    }\n",
              "\n",
              "    [theme=dark] .colab-df-convert {\n",
              "      background-color: #3B4455;\n",
              "      fill: #D2E3FC;\n",
              "    }\n",
              "\n",
              "    [theme=dark] .colab-df-convert:hover {\n",
              "      background-color: #434B5C;\n",
              "      box-shadow: 0px 1px 3px 1px rgba(0, 0, 0, 0.15);\n",
              "      filter: drop-shadow(0px 1px 2px rgba(0, 0, 0, 0.3));\n",
              "      fill: #FFFFFF;\n",
              "    }\n",
              "  </style>\n",
              "\n",
              "      <script>\n",
              "        const buttonEl =\n",
              "          document.querySelector('#df-f29c2ea9-ef1c-47e4-987e-2a30a5e96a17 button.colab-df-convert');\n",
              "        buttonEl.style.display =\n",
              "          google.colab.kernel.accessAllowed ? 'block' : 'none';\n",
              "\n",
              "        async function convertToInteractive(key) {\n",
              "          const element = document.querySelector('#df-f29c2ea9-ef1c-47e4-987e-2a30a5e96a17');\n",
              "          const dataTable =\n",
              "            await google.colab.kernel.invokeFunction('convertToInteractive',\n",
              "                                                     [key], {});\n",
              "          if (!dataTable) return;\n",
              "\n",
              "          const docLinkHtml = 'Like what you see? Visit the ' +\n",
              "            '<a target=\"_blank\" href=https://colab.research.google.com/notebooks/data_table.ipynb>data table notebook</a>'\n",
              "            + ' to learn more about interactive tables.';\n",
              "          element.innerHTML = '';\n",
              "          dataTable['output_type'] = 'display_data';\n",
              "          await google.colab.output.renderOutput(dataTable, element);\n",
              "          const docLink = document.createElement('div');\n",
              "          docLink.innerHTML = docLinkHtml;\n",
              "          element.appendChild(docLink);\n",
              "        }\n",
              "      </script>\n",
              "    </div>\n",
              "  </div>\n",
              "  "
            ]
          },
          "metadata": {},
          "execution_count": 35
        }
      ]
    },
    {
      "cell_type": "code",
      "source": [
        "biden[\"sentiment_polarity\"]=biden['text'].apply(find_pol)"
      ],
      "metadata": {
        "id": "UBIYt1hHLBKn"
      },
      "execution_count": null,
      "outputs": []
    },
    {
      "cell_type": "code",
      "source": [
        "biden.head()"
      ],
      "metadata": {
        "colab": {
          "base_uri": "https://localhost:8080/",
          "height": 206
        },
        "id": "Og0rvXmJLpSe",
        "outputId": "8dc191fc-5aef-41f4-fbcd-c726fa7ac1e6"
      },
      "execution_count": null,
      "outputs": [
        {
          "output_type": "execute_result",
          "data": {
            "text/plain": [
              "              user                                               text  \\\n",
              "0      manny_rosen   @sanofi please tell us how many shares the Cr...   \n",
              "1        osi_abdul   https://t.co/atM98CpqF7  Like, comment, RT #P...   \n",
              "2          Patsyrw   Your AG Barr is as useless &amp; corrupt as y...   \n",
              "3  seyedebrahimi_m   Mr. Trump! Wake Up!  Most of the comments bel...   \n",
              "4    James09254677   After 4 years you think you would have figure...   \n",
              "\n",
              "   sentiment_polarity  \n",
              "0                0.05  \n",
              "1                0.00  \n",
              "2               -0.50  \n",
              "3                0.50  \n",
              "4                0.00  "
            ],
            "text/html": [
              "\n",
              "  <div id=\"df-fbbbb19f-0149-40b2-85e5-87f242dffb6c\">\n",
              "    <div class=\"colab-df-container\">\n",
              "      <div>\n",
              "<style scoped>\n",
              "    .dataframe tbody tr th:only-of-type {\n",
              "        vertical-align: middle;\n",
              "    }\n",
              "\n",
              "    .dataframe tbody tr th {\n",
              "        vertical-align: top;\n",
              "    }\n",
              "\n",
              "    .dataframe thead th {\n",
              "        text-align: right;\n",
              "    }\n",
              "</style>\n",
              "<table border=\"1\" class=\"dataframe\">\n",
              "  <thead>\n",
              "    <tr style=\"text-align: right;\">\n",
              "      <th></th>\n",
              "      <th>user</th>\n",
              "      <th>text</th>\n",
              "      <th>sentiment_polarity</th>\n",
              "    </tr>\n",
              "  </thead>\n",
              "  <tbody>\n",
              "    <tr>\n",
              "      <th>0</th>\n",
              "      <td>manny_rosen</td>\n",
              "      <td>@sanofi please tell us how many shares the Cr...</td>\n",
              "      <td>0.05</td>\n",
              "    </tr>\n",
              "    <tr>\n",
              "      <th>1</th>\n",
              "      <td>osi_abdul</td>\n",
              "      <td>https://t.co/atM98CpqF7  Like, comment, RT #P...</td>\n",
              "      <td>0.00</td>\n",
              "    </tr>\n",
              "    <tr>\n",
              "      <th>2</th>\n",
              "      <td>Patsyrw</td>\n",
              "      <td>Your AG Barr is as useless &amp;amp; corrupt as y...</td>\n",
              "      <td>-0.50</td>\n",
              "    </tr>\n",
              "    <tr>\n",
              "      <th>3</th>\n",
              "      <td>seyedebrahimi_m</td>\n",
              "      <td>Mr. Trump! Wake Up!  Most of the comments bel...</td>\n",
              "      <td>0.50</td>\n",
              "    </tr>\n",
              "    <tr>\n",
              "      <th>4</th>\n",
              "      <td>James09254677</td>\n",
              "      <td>After 4 years you think you would have figure...</td>\n",
              "      <td>0.00</td>\n",
              "    </tr>\n",
              "  </tbody>\n",
              "</table>\n",
              "</div>\n",
              "      <button class=\"colab-df-convert\" onclick=\"convertToInteractive('df-fbbbb19f-0149-40b2-85e5-87f242dffb6c')\"\n",
              "              title=\"Convert this dataframe to an interactive table.\"\n",
              "              style=\"display:none;\">\n",
              "        \n",
              "  <svg xmlns=\"http://www.w3.org/2000/svg\" height=\"24px\"viewBox=\"0 0 24 24\"\n",
              "       width=\"24px\">\n",
              "    <path d=\"M0 0h24v24H0V0z\" fill=\"none\"/>\n",
              "    <path d=\"M18.56 5.44l.94 2.06.94-2.06 2.06-.94-2.06-.94-.94-2.06-.94 2.06-2.06.94zm-11 1L8.5 8.5l.94-2.06 2.06-.94-2.06-.94L8.5 2.5l-.94 2.06-2.06.94zm10 10l.94 2.06.94-2.06 2.06-.94-2.06-.94-.94-2.06-.94 2.06-2.06.94z\"/><path d=\"M17.41 7.96l-1.37-1.37c-.4-.4-.92-.59-1.43-.59-.52 0-1.04.2-1.43.59L10.3 9.45l-7.72 7.72c-.78.78-.78 2.05 0 2.83L4 21.41c.39.39.9.59 1.41.59.51 0 1.02-.2 1.41-.59l7.78-7.78 2.81-2.81c.8-.78.8-2.07 0-2.86zM5.41 20L4 18.59l7.72-7.72 1.47 1.35L5.41 20z\"/>\n",
              "  </svg>\n",
              "      </button>\n",
              "      \n",
              "  <style>\n",
              "    .colab-df-container {\n",
              "      display:flex;\n",
              "      flex-wrap:wrap;\n",
              "      gap: 12px;\n",
              "    }\n",
              "\n",
              "    .colab-df-convert {\n",
              "      background-color: #E8F0FE;\n",
              "      border: none;\n",
              "      border-radius: 50%;\n",
              "      cursor: pointer;\n",
              "      display: none;\n",
              "      fill: #1967D2;\n",
              "      height: 32px;\n",
              "      padding: 0 0 0 0;\n",
              "      width: 32px;\n",
              "    }\n",
              "\n",
              "    .colab-df-convert:hover {\n",
              "      background-color: #E2EBFA;\n",
              "      box-shadow: 0px 1px 2px rgba(60, 64, 67, 0.3), 0px 1px 3px 1px rgba(60, 64, 67, 0.15);\n",
              "      fill: #174EA6;\n",
              "    }\n",
              "\n",
              "    [theme=dark] .colab-df-convert {\n",
              "      background-color: #3B4455;\n",
              "      fill: #D2E3FC;\n",
              "    }\n",
              "\n",
              "    [theme=dark] .colab-df-convert:hover {\n",
              "      background-color: #434B5C;\n",
              "      box-shadow: 0px 1px 3px 1px rgba(0, 0, 0, 0.15);\n",
              "      filter: drop-shadow(0px 1px 2px rgba(0, 0, 0, 0.3));\n",
              "      fill: #FFFFFF;\n",
              "    }\n",
              "  </style>\n",
              "\n",
              "      <script>\n",
              "        const buttonEl =\n",
              "          document.querySelector('#df-fbbbb19f-0149-40b2-85e5-87f242dffb6c button.colab-df-convert');\n",
              "        buttonEl.style.display =\n",
              "          google.colab.kernel.accessAllowed ? 'block' : 'none';\n",
              "\n",
              "        async function convertToInteractive(key) {\n",
              "          const element = document.querySelector('#df-fbbbb19f-0149-40b2-85e5-87f242dffb6c');\n",
              "          const dataTable =\n",
              "            await google.colab.kernel.invokeFunction('convertToInteractive',\n",
              "                                                     [key], {});\n",
              "          if (!dataTable) return;\n",
              "\n",
              "          const docLinkHtml = 'Like what you see? Visit the ' +\n",
              "            '<a target=\"_blank\" href=https://colab.research.google.com/notebooks/data_table.ipynb>data table notebook</a>'\n",
              "            + ' to learn more about interactive tables.';\n",
              "          element.innerHTML = '';\n",
              "          dataTable['output_type'] = 'display_data';\n",
              "          await google.colab.output.renderOutput(dataTable, element);\n",
              "          const docLink = document.createElement('div');\n",
              "          docLink.innerHTML = docLinkHtml;\n",
              "          element.appendChild(docLink);\n",
              "        }\n",
              "      </script>\n",
              "    </div>\n",
              "  </div>\n",
              "  "
            ]
          },
          "metadata": {},
          "execution_count": 37
        }
      ]
    },
    {
      "cell_type": "markdown",
      "source": [
        "You can use the NumPy where() function to quickly update the values in a NumPy array using if-else logic.\n",
        "\n",
        "For example, the following code shows how to update the values in a NumPy array that meet a certain condition:\n",
        "Here’s the basic syntax using the NumPy where() function:\n",
        "x = np.where(condition, value_if_true, value_if_false)"
      ],
      "metadata": {
        "id": "NSk-BtEjNfo1"
      }
    },
    {
      "cell_type": "markdown",
      "source": [
        "![image.png](data:image/png;base64,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)"
      ],
      "metadata": {
        "id": "8KIVyxwfNQl1"
      }
    },
    {
      "cell_type": "code",
      "source": [
        "trump['Expression Label']=np.where(trump['sentiment_polarity']>0,'positive','negative')\n"
      ],
      "metadata": {
        "id": "t4Opofu0HOuf"
      },
      "execution_count": null,
      "outputs": []
    },
    {
      "cell_type": "code",
      "source": [
        "biden['Expression Label']=np.where(biden['sentiment_polarity']>0,'positive','negative')"
      ],
      "metadata": {
        "id": "2uLP6yANNiRF"
      },
      "execution_count": null,
      "outputs": []
    },
    {
      "cell_type": "code",
      "source": [
        "biden.head()"
      ],
      "metadata": {
        "colab": {
          "base_uri": "https://localhost:8080/",
          "height": 206
        },
        "id": "Kvc7jFJ7OU3U",
        "outputId": "45371365-6e18-455f-bf92-1a2c574202d4"
      },
      "execution_count": null,
      "outputs": [
        {
          "output_type": "execute_result",
          "data": {
            "text/plain": [
              "              user                                               text  \\\n",
              "0      manny_rosen   @sanofi please tell us how many shares the Cr...   \n",
              "1        osi_abdul   https://t.co/atM98CpqF7  Like, comment, RT #P...   \n",
              "2          Patsyrw   Your AG Barr is as useless &amp; corrupt as y...   \n",
              "3  seyedebrahimi_m   Mr. Trump! Wake Up!  Most of the comments bel...   \n",
              "4    James09254677   After 4 years you think you would have figure...   \n",
              "\n",
              "   sentiment_polarity Expression Label  \n",
              "0                0.05         positive  \n",
              "1                0.00         negative  \n",
              "2               -0.50         negative  \n",
              "3                0.50         positive  \n",
              "4                0.00         negative  "
            ],
            "text/html": [
              "\n",
              "  <div id=\"df-40cc5e67-718d-4c28-8a7a-d1d3c5035014\">\n",
              "    <div class=\"colab-df-container\">\n",
              "      <div>\n",
              "<style scoped>\n",
              "    .dataframe tbody tr th:only-of-type {\n",
              "        vertical-align: middle;\n",
              "    }\n",
              "\n",
              "    .dataframe tbody tr th {\n",
              "        vertical-align: top;\n",
              "    }\n",
              "\n",
              "    .dataframe thead th {\n",
              "        text-align: right;\n",
              "    }\n",
              "</style>\n",
              "<table border=\"1\" class=\"dataframe\">\n",
              "  <thead>\n",
              "    <tr style=\"text-align: right;\">\n",
              "      <th></th>\n",
              "      <th>user</th>\n",
              "      <th>text</th>\n",
              "      <th>sentiment_polarity</th>\n",
              "      <th>Expression Label</th>\n",
              "    </tr>\n",
              "  </thead>\n",
              "  <tbody>\n",
              "    <tr>\n",
              "      <th>0</th>\n",
              "      <td>manny_rosen</td>\n",
              "      <td>@sanofi please tell us how many shares the Cr...</td>\n",
              "      <td>0.05</td>\n",
              "      <td>positive</td>\n",
              "    </tr>\n",
              "    <tr>\n",
              "      <th>1</th>\n",
              "      <td>osi_abdul</td>\n",
              "      <td>https://t.co/atM98CpqF7  Like, comment, RT #P...</td>\n",
              "      <td>0.00</td>\n",
              "      <td>negative</td>\n",
              "    </tr>\n",
              "    <tr>\n",
              "      <th>2</th>\n",
              "      <td>Patsyrw</td>\n",
              "      <td>Your AG Barr is as useless &amp;amp; corrupt as y...</td>\n",
              "      <td>-0.50</td>\n",
              "      <td>negative</td>\n",
              "    </tr>\n",
              "    <tr>\n",
              "      <th>3</th>\n",
              "      <td>seyedebrahimi_m</td>\n",
              "      <td>Mr. Trump! Wake Up!  Most of the comments bel...</td>\n",
              "      <td>0.50</td>\n",
              "      <td>positive</td>\n",
              "    </tr>\n",
              "    <tr>\n",
              "      <th>4</th>\n",
              "      <td>James09254677</td>\n",
              "      <td>After 4 years you think you would have figure...</td>\n",
              "      <td>0.00</td>\n",
              "      <td>negative</td>\n",
              "    </tr>\n",
              "  </tbody>\n",
              "</table>\n",
              "</div>\n",
              "      <button class=\"colab-df-convert\" onclick=\"convertToInteractive('df-40cc5e67-718d-4c28-8a7a-d1d3c5035014')\"\n",
              "              title=\"Convert this dataframe to an interactive table.\"\n",
              "              style=\"display:none;\">\n",
              "        \n",
              "  <svg xmlns=\"http://www.w3.org/2000/svg\" height=\"24px\"viewBox=\"0 0 24 24\"\n",
              "       width=\"24px\">\n",
              "    <path d=\"M0 0h24v24H0V0z\" fill=\"none\"/>\n",
              "    <path d=\"M18.56 5.44l.94 2.06.94-2.06 2.06-.94-2.06-.94-.94-2.06-.94 2.06-2.06.94zm-11 1L8.5 8.5l.94-2.06 2.06-.94-2.06-.94L8.5 2.5l-.94 2.06-2.06.94zm10 10l.94 2.06.94-2.06 2.06-.94-2.06-.94-.94-2.06-.94 2.06-2.06.94z\"/><path d=\"M17.41 7.96l-1.37-1.37c-.4-.4-.92-.59-1.43-.59-.52 0-1.04.2-1.43.59L10.3 9.45l-7.72 7.72c-.78.78-.78 2.05 0 2.83L4 21.41c.39.39.9.59 1.41.59.51 0 1.02-.2 1.41-.59l7.78-7.78 2.81-2.81c.8-.78.8-2.07 0-2.86zM5.41 20L4 18.59l7.72-7.72 1.47 1.35L5.41 20z\"/>\n",
              "  </svg>\n",
              "      </button>\n",
              "      \n",
              "  <style>\n",
              "    .colab-df-container {\n",
              "      display:flex;\n",
              "      flex-wrap:wrap;\n",
              "      gap: 12px;\n",
              "    }\n",
              "\n",
              "    .colab-df-convert {\n",
              "      background-color: #E8F0FE;\n",
              "      border: none;\n",
              "      border-radius: 50%;\n",
              "      cursor: pointer;\n",
              "      display: none;\n",
              "      fill: #1967D2;\n",
              "      height: 32px;\n",
              "      padding: 0 0 0 0;\n",
              "      width: 32px;\n",
              "    }\n",
              "\n",
              "    .colab-df-convert:hover {\n",
              "      background-color: #E2EBFA;\n",
              "      box-shadow: 0px 1px 2px rgba(60, 64, 67, 0.3), 0px 1px 3px 1px rgba(60, 64, 67, 0.15);\n",
              "      fill: #174EA6;\n",
              "    }\n",
              "\n",
              "    [theme=dark] .colab-df-convert {\n",
              "      background-color: #3B4455;\n",
              "      fill: #D2E3FC;\n",
              "    }\n",
              "\n",
              "    [theme=dark] .colab-df-convert:hover {\n",
              "      background-color: #434B5C;\n",
              "      box-shadow: 0px 1px 3px 1px rgba(0, 0, 0, 0.15);\n",
              "      filter: drop-shadow(0px 1px 2px rgba(0, 0, 0, 0.3));\n",
              "      fill: #FFFFFF;\n",
              "    }\n",
              "  </style>\n",
              "\n",
              "      <script>\n",
              "        const buttonEl =\n",
              "          document.querySelector('#df-40cc5e67-718d-4c28-8a7a-d1d3c5035014 button.colab-df-convert');\n",
              "        buttonEl.style.display =\n",
              "          google.colab.kernel.accessAllowed ? 'block' : 'none';\n",
              "\n",
              "        async function convertToInteractive(key) {\n",
              "          const element = document.querySelector('#df-40cc5e67-718d-4c28-8a7a-d1d3c5035014');\n",
              "          const dataTable =\n",
              "            await google.colab.kernel.invokeFunction('convertToInteractive',\n",
              "                                                     [key], {});\n",
              "          if (!dataTable) return;\n",
              "\n",
              "          const docLinkHtml = 'Like what you see? Visit the ' +\n",
              "            '<a target=\"_blank\" href=https://colab.research.google.com/notebooks/data_table.ipynb>data table notebook</a>'\n",
              "            + ' to learn more about interactive tables.';\n",
              "          element.innerHTML = '';\n",
              "          dataTable['output_type'] = 'display_data';\n",
              "          await google.colab.output.renderOutput(dataTable, element);\n",
              "          const docLink = document.createElement('div');\n",
              "          docLink.innerHTML = docLinkHtml;\n",
              "          element.appendChild(docLink);\n",
              "        }\n",
              "      </script>\n",
              "    </div>\n",
              "  </div>\n",
              "  "
            ]
          },
          "metadata": {},
          "execution_count": 40
        }
      ]
    },
    {
      "cell_type": "code",
      "source": [
        "trump['Expression Label']=np.where(trump['sentiment_polarity']==0,'neutral',trump['Expression Label'])\n",
        "trump.head()"
      ],
      "metadata": {
        "colab": {
          "base_uri": "https://localhost:8080/",
          "height": 206
        },
        "id": "DUtz2wZZOU0f",
        "outputId": "ca830390-89d4-49f3-dd80-c747035bf177"
      },
      "execution_count": null,
      "outputs": [
        {
          "output_type": "execute_result",
          "data": {
            "text/plain": [
              "           user                                               text  \\\n",
              "0   MarkHodder3    @JoeBiden And we’ll find out who won in 2026...   \n",
              "1    K87327961G  @JoeBiden Your Democratic Nazi Party cannot be...   \n",
              "2      OldlaceA                        @JoeBiden So did Lying Barr   \n",
              "3    penblogger  @JoeBiden It's clear you didnt compose this tw...   \n",
              "4  Aquarian0264         @JoeBiden I will vote in person thank you.   \n",
              "\n",
              "   sentiment_polarity Expression Label  \n",
              "0                0.00          neutral  \n",
              "1                0.00          neutral  \n",
              "2                0.00          neutral  \n",
              "3                0.05         positive  \n",
              "4                0.00          neutral  "
            ],
            "text/html": [
              "\n",
              "  <div id=\"df-d5e59936-b17f-4a71-9fe5-949cd37427f5\">\n",
              "    <div class=\"colab-df-container\">\n",
              "      <div>\n",
              "<style scoped>\n",
              "    .dataframe tbody tr th:only-of-type {\n",
              "        vertical-align: middle;\n",
              "    }\n",
              "\n",
              "    .dataframe tbody tr th {\n",
              "        vertical-align: top;\n",
              "    }\n",
              "\n",
              "    .dataframe thead th {\n",
              "        text-align: right;\n",
              "    }\n",
              "</style>\n",
              "<table border=\"1\" class=\"dataframe\">\n",
              "  <thead>\n",
              "    <tr style=\"text-align: right;\">\n",
              "      <th></th>\n",
              "      <th>user</th>\n",
              "      <th>text</th>\n",
              "      <th>sentiment_polarity</th>\n",
              "      <th>Expression Label</th>\n",
              "    </tr>\n",
              "  </thead>\n",
              "  <tbody>\n",
              "    <tr>\n",
              "      <th>0</th>\n",
              "      <td>MarkHodder3</td>\n",
              "      <td>@JoeBiden And we’ll find out who won in 2026...</td>\n",
              "      <td>0.00</td>\n",
              "      <td>neutral</td>\n",
              "    </tr>\n",
              "    <tr>\n",
              "      <th>1</th>\n",
              "      <td>K87327961G</td>\n",
              "      <td>@JoeBiden Your Democratic Nazi Party cannot be...</td>\n",
              "      <td>0.00</td>\n",
              "      <td>neutral</td>\n",
              "    </tr>\n",
              "    <tr>\n",
              "      <th>2</th>\n",
              "      <td>OldlaceA</td>\n",
              "      <td>@JoeBiden So did Lying Barr</td>\n",
              "      <td>0.00</td>\n",
              "      <td>neutral</td>\n",
              "    </tr>\n",
              "    <tr>\n",
              "      <th>3</th>\n",
              "      <td>penblogger</td>\n",
              "      <td>@JoeBiden It's clear you didnt compose this tw...</td>\n",
              "      <td>0.05</td>\n",
              "      <td>positive</td>\n",
              "    </tr>\n",
              "    <tr>\n",
              "      <th>4</th>\n",
              "      <td>Aquarian0264</td>\n",
              "      <td>@JoeBiden I will vote in person thank you.</td>\n",
              "      <td>0.00</td>\n",
              "      <td>neutral</td>\n",
              "    </tr>\n",
              "  </tbody>\n",
              "</table>\n",
              "</div>\n",
              "      <button class=\"colab-df-convert\" onclick=\"convertToInteractive('df-d5e59936-b17f-4a71-9fe5-949cd37427f5')\"\n",
              "              title=\"Convert this dataframe to an interactive table.\"\n",
              "              style=\"display:none;\">\n",
              "        \n",
              "  <svg xmlns=\"http://www.w3.org/2000/svg\" height=\"24px\"viewBox=\"0 0 24 24\"\n",
              "       width=\"24px\">\n",
              "    <path d=\"M0 0h24v24H0V0z\" fill=\"none\"/>\n",
              "    <path d=\"M18.56 5.44l.94 2.06.94-2.06 2.06-.94-2.06-.94-.94-2.06-.94 2.06-2.06.94zm-11 1L8.5 8.5l.94-2.06 2.06-.94-2.06-.94L8.5 2.5l-.94 2.06-2.06.94zm10 10l.94 2.06.94-2.06 2.06-.94-2.06-.94-.94-2.06-.94 2.06-2.06.94z\"/><path d=\"M17.41 7.96l-1.37-1.37c-.4-.4-.92-.59-1.43-.59-.52 0-1.04.2-1.43.59L10.3 9.45l-7.72 7.72c-.78.78-.78 2.05 0 2.83L4 21.41c.39.39.9.59 1.41.59.51 0 1.02-.2 1.41-.59l7.78-7.78 2.81-2.81c.8-.78.8-2.07 0-2.86zM5.41 20L4 18.59l7.72-7.72 1.47 1.35L5.41 20z\"/>\n",
              "  </svg>\n",
              "      </button>\n",
              "      \n",
              "  <style>\n",
              "    .colab-df-container {\n",
              "      display:flex;\n",
              "      flex-wrap:wrap;\n",
              "      gap: 12px;\n",
              "    }\n",
              "\n",
              "    .colab-df-convert {\n",
              "      background-color: #E8F0FE;\n",
              "      border: none;\n",
              "      border-radius: 50%;\n",
              "      cursor: pointer;\n",
              "      display: none;\n",
              "      fill: #1967D2;\n",
              "      height: 32px;\n",
              "      padding: 0 0 0 0;\n",
              "      width: 32px;\n",
              "    }\n",
              "\n",
              "    .colab-df-convert:hover {\n",
              "      background-color: #E2EBFA;\n",
              "      box-shadow: 0px 1px 2px rgba(60, 64, 67, 0.3), 0px 1px 3px 1px rgba(60, 64, 67, 0.15);\n",
              "      fill: #174EA6;\n",
              "    }\n",
              "\n",
              "    [theme=dark] .colab-df-convert {\n",
              "      background-color: #3B4455;\n",
              "      fill: #D2E3FC;\n",
              "    }\n",
              "\n",
              "    [theme=dark] .colab-df-convert:hover {\n",
              "      background-color: #434B5C;\n",
              "      box-shadow: 0px 1px 3px 1px rgba(0, 0, 0, 0.15);\n",
              "      filter: drop-shadow(0px 1px 2px rgba(0, 0, 0, 0.3));\n",
              "      fill: #FFFFFF;\n",
              "    }\n",
              "  </style>\n",
              "\n",
              "      <script>\n",
              "        const buttonEl =\n",
              "          document.querySelector('#df-d5e59936-b17f-4a71-9fe5-949cd37427f5 button.colab-df-convert');\n",
              "        buttonEl.style.display =\n",
              "          google.colab.kernel.accessAllowed ? 'block' : 'none';\n",
              "\n",
              "        async function convertToInteractive(key) {\n",
              "          const element = document.querySelector('#df-d5e59936-b17f-4a71-9fe5-949cd37427f5');\n",
              "          const dataTable =\n",
              "            await google.colab.kernel.invokeFunction('convertToInteractive',\n",
              "                                                     [key], {});\n",
              "          if (!dataTable) return;\n",
              "\n",
              "          const docLinkHtml = 'Like what you see? Visit the ' +\n",
              "            '<a target=\"_blank\" href=https://colab.research.google.com/notebooks/data_table.ipynb>data table notebook</a>'\n",
              "            + ' to learn more about interactive tables.';\n",
              "          element.innerHTML = '';\n",
              "          dataTable['output_type'] = 'display_data';\n",
              "          await google.colab.output.renderOutput(dataTable, element);\n",
              "          const docLink = document.createElement('div');\n",
              "          docLink.innerHTML = docLinkHtml;\n",
              "          element.appendChild(docLink);\n",
              "        }\n",
              "      </script>\n",
              "    </div>\n",
              "  </div>\n",
              "  "
            ]
          },
          "metadata": {},
          "execution_count": 41
        }
      ]
    },
    {
      "cell_type": "code",
      "source": [
        "biden['Expression Label']=np.where(biden['sentiment_polarity']==0,'neutral',biden['Expression Label'])\n",
        "biden.head()"
      ],
      "metadata": {
        "colab": {
          "base_uri": "https://localhost:8080/",
          "height": 206
        },
        "id": "wbpwjCGZOUxd",
        "outputId": "ad646495-bc18-4abb-f5c9-13ffd33ea716"
      },
      "execution_count": null,
      "outputs": [
        {
          "output_type": "execute_result",
          "data": {
            "text/plain": [
              "              user                                               text  \\\n",
              "0      manny_rosen   @sanofi please tell us how many shares the Cr...   \n",
              "1        osi_abdul   https://t.co/atM98CpqF7  Like, comment, RT #P...   \n",
              "2          Patsyrw   Your AG Barr is as useless &amp; corrupt as y...   \n",
              "3  seyedebrahimi_m   Mr. Trump! Wake Up!  Most of the comments bel...   \n",
              "4    James09254677   After 4 years you think you would have figure...   \n",
              "\n",
              "   sentiment_polarity Expression Label  \n",
              "0                0.05         positive  \n",
              "1                0.00          neutral  \n",
              "2               -0.50         negative  \n",
              "3                0.50         positive  \n",
              "4                0.00          neutral  "
            ],
            "text/html": [
              "\n",
              "  <div id=\"df-332b0def-0f3e-4b21-a7b4-20399fec3e82\">\n",
              "    <div class=\"colab-df-container\">\n",
              "      <div>\n",
              "<style scoped>\n",
              "    .dataframe tbody tr th:only-of-type {\n",
              "        vertical-align: middle;\n",
              "    }\n",
              "\n",
              "    .dataframe tbody tr th {\n",
              "        vertical-align: top;\n",
              "    }\n",
              "\n",
              "    .dataframe thead th {\n",
              "        text-align: right;\n",
              "    }\n",
              "</style>\n",
              "<table border=\"1\" class=\"dataframe\">\n",
              "  <thead>\n",
              "    <tr style=\"text-align: right;\">\n",
              "      <th></th>\n",
              "      <th>user</th>\n",
              "      <th>text</th>\n",
              "      <th>sentiment_polarity</th>\n",
              "      <th>Expression Label</th>\n",
              "    </tr>\n",
              "  </thead>\n",
              "  <tbody>\n",
              "    <tr>\n",
              "      <th>0</th>\n",
              "      <td>manny_rosen</td>\n",
              "      <td>@sanofi please tell us how many shares the Cr...</td>\n",
              "      <td>0.05</td>\n",
              "      <td>positive</td>\n",
              "    </tr>\n",
              "    <tr>\n",
              "      <th>1</th>\n",
              "      <td>osi_abdul</td>\n",
              "      <td>https://t.co/atM98CpqF7  Like, comment, RT #P...</td>\n",
              "      <td>0.00</td>\n",
              "      <td>neutral</td>\n",
              "    </tr>\n",
              "    <tr>\n",
              "      <th>2</th>\n",
              "      <td>Patsyrw</td>\n",
              "      <td>Your AG Barr is as useless &amp;amp; corrupt as y...</td>\n",
              "      <td>-0.50</td>\n",
              "      <td>negative</td>\n",
              "    </tr>\n",
              "    <tr>\n",
              "      <th>3</th>\n",
              "      <td>seyedebrahimi_m</td>\n",
              "      <td>Mr. Trump! Wake Up!  Most of the comments bel...</td>\n",
              "      <td>0.50</td>\n",
              "      <td>positive</td>\n",
              "    </tr>\n",
              "    <tr>\n",
              "      <th>4</th>\n",
              "      <td>James09254677</td>\n",
              "      <td>After 4 years you think you would have figure...</td>\n",
              "      <td>0.00</td>\n",
              "      <td>neutral</td>\n",
              "    </tr>\n",
              "  </tbody>\n",
              "</table>\n",
              "</div>\n",
              "      <button class=\"colab-df-convert\" onclick=\"convertToInteractive('df-332b0def-0f3e-4b21-a7b4-20399fec3e82')\"\n",
              "              title=\"Convert this dataframe to an interactive table.\"\n",
              "              style=\"display:none;\">\n",
              "        \n",
              "  <svg xmlns=\"http://www.w3.org/2000/svg\" height=\"24px\"viewBox=\"0 0 24 24\"\n",
              "       width=\"24px\">\n",
              "    <path d=\"M0 0h24v24H0V0z\" fill=\"none\"/>\n",
              "    <path d=\"M18.56 5.44l.94 2.06.94-2.06 2.06-.94-2.06-.94-.94-2.06-.94 2.06-2.06.94zm-11 1L8.5 8.5l.94-2.06 2.06-.94-2.06-.94L8.5 2.5l-.94 2.06-2.06.94zm10 10l.94 2.06.94-2.06 2.06-.94-2.06-.94-.94-2.06-.94 2.06-2.06.94z\"/><path d=\"M17.41 7.96l-1.37-1.37c-.4-.4-.92-.59-1.43-.59-.52 0-1.04.2-1.43.59L10.3 9.45l-7.72 7.72c-.78.78-.78 2.05 0 2.83L4 21.41c.39.39.9.59 1.41.59.51 0 1.02-.2 1.41-.59l7.78-7.78 2.81-2.81c.8-.78.8-2.07 0-2.86zM5.41 20L4 18.59l7.72-7.72 1.47 1.35L5.41 20z\"/>\n",
              "  </svg>\n",
              "      </button>\n",
              "      \n",
              "  <style>\n",
              "    .colab-df-container {\n",
              "      display:flex;\n",
              "      flex-wrap:wrap;\n",
              "      gap: 12px;\n",
              "    }\n",
              "\n",
              "    .colab-df-convert {\n",
              "      background-color: #E8F0FE;\n",
              "      border: none;\n",
              "      border-radius: 50%;\n",
              "      cursor: pointer;\n",
              "      display: none;\n",
              "      fill: #1967D2;\n",
              "      height: 32px;\n",
              "      padding: 0 0 0 0;\n",
              "      width: 32px;\n",
              "    }\n",
              "\n",
              "    .colab-df-convert:hover {\n",
              "      background-color: #E2EBFA;\n",
              "      box-shadow: 0px 1px 2px rgba(60, 64, 67, 0.3), 0px 1px 3px 1px rgba(60, 64, 67, 0.15);\n",
              "      fill: #174EA6;\n",
              "    }\n",
              "\n",
              "    [theme=dark] .colab-df-convert {\n",
              "      background-color: #3B4455;\n",
              "      fill: #D2E3FC;\n",
              "    }\n",
              "\n",
              "    [theme=dark] .colab-df-convert:hover {\n",
              "      background-color: #434B5C;\n",
              "      box-shadow: 0px 1px 3px 1px rgba(0, 0, 0, 0.15);\n",
              "      filter: drop-shadow(0px 1px 2px rgba(0, 0, 0, 0.3));\n",
              "      fill: #FFFFFF;\n",
              "    }\n",
              "  </style>\n",
              "\n",
              "      <script>\n",
              "        const buttonEl =\n",
              "          document.querySelector('#df-332b0def-0f3e-4b21-a7b4-20399fec3e82 button.colab-df-convert');\n",
              "        buttonEl.style.display =\n",
              "          google.colab.kernel.accessAllowed ? 'block' : 'none';\n",
              "\n",
              "        async function convertToInteractive(key) {\n",
              "          const element = document.querySelector('#df-332b0def-0f3e-4b21-a7b4-20399fec3e82');\n",
              "          const dataTable =\n",
              "            await google.colab.kernel.invokeFunction('convertToInteractive',\n",
              "                                                     [key], {});\n",
              "          if (!dataTable) return;\n",
              "\n",
              "          const docLinkHtml = 'Like what you see? Visit the ' +\n",
              "            '<a target=\"_blank\" href=https://colab.research.google.com/notebooks/data_table.ipynb>data table notebook</a>'\n",
              "            + ' to learn more about interactive tables.';\n",
              "          element.innerHTML = '';\n",
              "          dataTable['output_type'] = 'display_data';\n",
              "          await google.colab.output.renderOutput(dataTable, element);\n",
              "          const docLink = document.createElement('div');\n",
              "          docLink.innerHTML = docLinkHtml;\n",
              "          element.appendChild(docLink);\n",
              "        }\n",
              "      </script>\n",
              "    </div>\n",
              "  </div>\n",
              "  "
            ]
          },
          "metadata": {},
          "execution_count": 42
        }
      ]
    },
    {
      "cell_type": "code",
      "source": [
        ""
      ],
      "metadata": {
        "id": "K-v00LrdCGPd"
      },
      "execution_count": null,
      "outputs": []
    },
    {
      "cell_type": "markdown",
      "source": [
        "make simple filter to know take out all neutral from data"
      ],
      "metadata": {
        "id": "PiFogo4VEh-S"
      }
    },
    {
      "cell_type": "code",
      "source": [
        "filter=trump['Expression Label']!='neutral'\n",
        "tr_data=trump[filter]"
      ],
      "metadata": {
        "id": "cq5PK7X3Qla3"
      },
      "execution_count": null,
      "outputs": []
    },
    {
      "cell_type": "code",
      "source": [
        "tr_data.shape"
      ],
      "metadata": {
        "colab": {
          "base_uri": "https://localhost:8080/"
        },
        "id": "3vhPtpxjRM5G",
        "outputId": "86b3f01e-d7f6-4ad7-9f8b-1a98e23b5793"
      },
      "execution_count": null,
      "outputs": [
        {
          "output_type": "execute_result",
          "data": {
            "text/plain": [
              "(1031, 4)"
            ]
          },
          "metadata": {},
          "execution_count": 44
        }
      ]
    },
    {
      "cell_type": "code",
      "source": [
        "filter2=biden['Expression Label']!='neutral'\n",
        "bi_data=biden[filter2]"
      ],
      "metadata": {
        "id": "MhYvyw3WQ7Cf"
      },
      "execution_count": null,
      "outputs": []
    },
    {
      "cell_type": "code",
      "source": [
        "bi_data.shape"
      ],
      "metadata": {
        "colab": {
          "base_uri": "https://localhost:8080/"
        },
        "id": "QNID1VnFRR4P",
        "outputId": "4a5da8e9-5f01-40a0-8c95-77e1b4e59e21"
      },
      "execution_count": null,
      "outputs": [
        {
          "output_type": "execute_result",
          "data": {
            "text/plain": [
              "(1324, 4)"
            ]
          },
          "metadata": {},
          "execution_count": 77
        }
      ]
    },
    {
      "cell_type": "markdown",
      "source": [
        "A groupby operation involves some combination of splitting the object, applying a function, and combining the results. This can be used to group large amounts of data and compute operations on these groups."
      ],
      "metadata": {
        "id": "z9RtghQYA0ME"
      }
    },
    {
      "cell_type": "code",
      "source": [
        "bi_data.groupby('Expression Label').count()"
      ],
      "metadata": {
        "id": "KrrcGpA2NiJt",
        "colab": {
          "base_uri": "https://localhost:8080/",
          "height": 143
        },
        "outputId": "20b9a08d-8ded-4e8c-fb25-6a4a498c76e0"
      },
      "execution_count": null,
      "outputs": [
        {
          "output_type": "execute_result",
          "data": {
            "text/plain": [
              "                  user  text  sentiment_polarity\n",
              "Expression Label                                \n",
              "negative           597   597                 597\n",
              "positive           727   727                 727"
            ],
            "text/html": [
              "\n",
              "  <div id=\"df-29ed62a8-d44a-4fb8-8b1a-59ff4fc9da2f\">\n",
              "    <div class=\"colab-df-container\">\n",
              "      <div>\n",
              "<style scoped>\n",
              "    .dataframe tbody tr th:only-of-type {\n",
              "        vertical-align: middle;\n",
              "    }\n",
              "\n",
              "    .dataframe tbody tr th {\n",
              "        vertical-align: top;\n",
              "    }\n",
              "\n",
              "    .dataframe thead th {\n",
              "        text-align: right;\n",
              "    }\n",
              "</style>\n",
              "<table border=\"1\" class=\"dataframe\">\n",
              "  <thead>\n",
              "    <tr style=\"text-align: right;\">\n",
              "      <th></th>\n",
              "      <th>user</th>\n",
              "      <th>text</th>\n",
              "      <th>sentiment_polarity</th>\n",
              "    </tr>\n",
              "    <tr>\n",
              "      <th>Expression Label</th>\n",
              "      <th></th>\n",
              "      <th></th>\n",
              "      <th></th>\n",
              "    </tr>\n",
              "  </thead>\n",
              "  <tbody>\n",
              "    <tr>\n",
              "      <th>negative</th>\n",
              "      <td>597</td>\n",
              "      <td>597</td>\n",
              "      <td>597</td>\n",
              "    </tr>\n",
              "    <tr>\n",
              "      <th>positive</th>\n",
              "      <td>727</td>\n",
              "      <td>727</td>\n",
              "      <td>727</td>\n",
              "    </tr>\n",
              "  </tbody>\n",
              "</table>\n",
              "</div>\n",
              "      <button class=\"colab-df-convert\" onclick=\"convertToInteractive('df-29ed62a8-d44a-4fb8-8b1a-59ff4fc9da2f')\"\n",
              "              title=\"Convert this dataframe to an interactive table.\"\n",
              "              style=\"display:none;\">\n",
              "        \n",
              "  <svg xmlns=\"http://www.w3.org/2000/svg\" height=\"24px\"viewBox=\"0 0 24 24\"\n",
              "       width=\"24px\">\n",
              "    <path d=\"M0 0h24v24H0V0z\" fill=\"none\"/>\n",
              "    <path d=\"M18.56 5.44l.94 2.06.94-2.06 2.06-.94-2.06-.94-.94-2.06-.94 2.06-2.06.94zm-11 1L8.5 8.5l.94-2.06 2.06-.94-2.06-.94L8.5 2.5l-.94 2.06-2.06.94zm10 10l.94 2.06.94-2.06 2.06-.94-2.06-.94-.94-2.06-.94 2.06-2.06.94z\"/><path d=\"M17.41 7.96l-1.37-1.37c-.4-.4-.92-.59-1.43-.59-.52 0-1.04.2-1.43.59L10.3 9.45l-7.72 7.72c-.78.78-.78 2.05 0 2.83L4 21.41c.39.39.9.59 1.41.59.51 0 1.02-.2 1.41-.59l7.78-7.78 2.81-2.81c.8-.78.8-2.07 0-2.86zM5.41 20L4 18.59l7.72-7.72 1.47 1.35L5.41 20z\"/>\n",
              "  </svg>\n",
              "      </button>\n",
              "      \n",
              "  <style>\n",
              "    .colab-df-container {\n",
              "      display:flex;\n",
              "      flex-wrap:wrap;\n",
              "      gap: 12px;\n",
              "    }\n",
              "\n",
              "    .colab-df-convert {\n",
              "      background-color: #E8F0FE;\n",
              "      border: none;\n",
              "      border-radius: 50%;\n",
              "      cursor: pointer;\n",
              "      display: none;\n",
              "      fill: #1967D2;\n",
              "      height: 32px;\n",
              "      padding: 0 0 0 0;\n",
              "      width: 32px;\n",
              "    }\n",
              "\n",
              "    .colab-df-convert:hover {\n",
              "      background-color: #E2EBFA;\n",
              "      box-shadow: 0px 1px 2px rgba(60, 64, 67, 0.3), 0px 1px 3px 1px rgba(60, 64, 67, 0.15);\n",
              "      fill: #174EA6;\n",
              "    }\n",
              "\n",
              "    [theme=dark] .colab-df-convert {\n",
              "      background-color: #3B4455;\n",
              "      fill: #D2E3FC;\n",
              "    }\n",
              "\n",
              "    [theme=dark] .colab-df-convert:hover {\n",
              "      background-color: #434B5C;\n",
              "      box-shadow: 0px 1px 3px 1px rgba(0, 0, 0, 0.15);\n",
              "      filter: drop-shadow(0px 1px 2px rgba(0, 0, 0, 0.3));\n",
              "      fill: #FFFFFF;\n",
              "    }\n",
              "  </style>\n",
              "\n",
              "      <script>\n",
              "        const buttonEl =\n",
              "          document.querySelector('#df-29ed62a8-d44a-4fb8-8b1a-59ff4fc9da2f button.colab-df-convert');\n",
              "        buttonEl.style.display =\n",
              "          google.colab.kernel.accessAllowed ? 'block' : 'none';\n",
              "\n",
              "        async function convertToInteractive(key) {\n",
              "          const element = document.querySelector('#df-29ed62a8-d44a-4fb8-8b1a-59ff4fc9da2f');\n",
              "          const dataTable =\n",
              "            await google.colab.kernel.invokeFunction('convertToInteractive',\n",
              "                                                     [key], {});\n",
              "          if (!dataTable) return;\n",
              "\n",
              "          const docLinkHtml = 'Like what you see? Visit the ' +\n",
              "            '<a target=\"_blank\" href=https://colab.research.google.com/notebooks/data_table.ipynb>data table notebook</a>'\n",
              "            + ' to learn more about interactive tables.';\n",
              "          element.innerHTML = '';\n",
              "          dataTable['output_type'] = 'display_data';\n",
              "          await google.colab.output.renderOutput(dataTable, element);\n",
              "          const docLink = document.createElement('div');\n",
              "          docLink.innerHTML = docLinkHtml;\n",
              "          element.appendChild(docLink);\n",
              "        }\n",
              "      </script>\n",
              "    </div>\n",
              "  </div>\n",
              "  "
            ]
          },
          "metadata": {},
          "execution_count": 47
        }
      ]
    },
    {
      "cell_type": "code",
      "source": [
        "bi_data['Expression Label'].value_counts()"
      ],
      "metadata": {
        "colab": {
          "base_uri": "https://localhost:8080/"
        },
        "id": "wYVW1mN9BgEg",
        "outputId": "12f61612-cc9f-4e3a-9859-69cf29fb6b5f"
      },
      "execution_count": null,
      "outputs": [
        {
          "output_type": "execute_result",
          "data": {
            "text/plain": [
              "positive    727\n",
              "negative    597\n",
              "Name: Expression Label, dtype: int64"
            ]
          },
          "metadata": {},
          "execution_count": 69
        }
      ]
    },
    {
      "cell_type": "code",
      "source": [
        "positive = (bi_data['Expression Label'].value_counts()[0]/1324)*100\n",
        "negative=(bi_data['Expression Label'].value_counts()[1]/1324)*100\n",
        "positive"
      ],
      "metadata": {
        "id": "lm_jZzp5A26x",
        "colab": {
          "base_uri": "https://localhost:8080/"
        },
        "outputId": "7b53ba54-64c9-497d-e18a-8cd5b9dad922"
      },
      "execution_count": null,
      "outputs": [
        {
          "output_type": "execute_result",
          "data": {
            "text/plain": [
              "54.909365558912384"
            ]
          },
          "metadata": {},
          "execution_count": 72
        }
      ]
    },
    {
      "cell_type": "code",
      "source": [
        "tr_data.groupby('Expression Label').count()"
      ],
      "metadata": {
        "colab": {
          "base_uri": "https://localhost:8080/",
          "height": 143
        },
        "id": "CBzSfqQgAfbo",
        "outputId": "7ab1e531-96cc-4207-e35e-9d1fe642ac3e"
      },
      "execution_count": null,
      "outputs": [
        {
          "output_type": "execute_result",
          "data": {
            "text/plain": [
              "                  user  text  sentiment_polarity\n",
              "Expression Label                                \n",
              "negative           407   407                 407\n",
              "positive           624   624                 624"
            ],
            "text/html": [
              "\n",
              "  <div id=\"df-125722a6-c34a-454b-b9ea-56b93274a253\">\n",
              "    <div class=\"colab-df-container\">\n",
              "      <div>\n",
              "<style scoped>\n",
              "    .dataframe tbody tr th:only-of-type {\n",
              "        vertical-align: middle;\n",
              "    }\n",
              "\n",
              "    .dataframe tbody tr th {\n",
              "        vertical-align: top;\n",
              "    }\n",
              "\n",
              "    .dataframe thead th {\n",
              "        text-align: right;\n",
              "    }\n",
              "</style>\n",
              "<table border=\"1\" class=\"dataframe\">\n",
              "  <thead>\n",
              "    <tr style=\"text-align: right;\">\n",
              "      <th></th>\n",
              "      <th>user</th>\n",
              "      <th>text</th>\n",
              "      <th>sentiment_polarity</th>\n",
              "    </tr>\n",
              "    <tr>\n",
              "      <th>Expression Label</th>\n",
              "      <th></th>\n",
              "      <th></th>\n",
              "      <th></th>\n",
              "    </tr>\n",
              "  </thead>\n",
              "  <tbody>\n",
              "    <tr>\n",
              "      <th>negative</th>\n",
              "      <td>407</td>\n",
              "      <td>407</td>\n",
              "      <td>407</td>\n",
              "    </tr>\n",
              "    <tr>\n",
              "      <th>positive</th>\n",
              "      <td>624</td>\n",
              "      <td>624</td>\n",
              "      <td>624</td>\n",
              "    </tr>\n",
              "  </tbody>\n",
              "</table>\n",
              "</div>\n",
              "      <button class=\"colab-df-convert\" onclick=\"convertToInteractive('df-125722a6-c34a-454b-b9ea-56b93274a253')\"\n",
              "              title=\"Convert this dataframe to an interactive table.\"\n",
              "              style=\"display:none;\">\n",
              "        \n",
              "  <svg xmlns=\"http://www.w3.org/2000/svg\" height=\"24px\"viewBox=\"0 0 24 24\"\n",
              "       width=\"24px\">\n",
              "    <path d=\"M0 0h24v24H0V0z\" fill=\"none\"/>\n",
              "    <path d=\"M18.56 5.44l.94 2.06.94-2.06 2.06-.94-2.06-.94-.94-2.06-.94 2.06-2.06.94zm-11 1L8.5 8.5l.94-2.06 2.06-.94-2.06-.94L8.5 2.5l-.94 2.06-2.06.94zm10 10l.94 2.06.94-2.06 2.06-.94-2.06-.94-.94-2.06-.94 2.06-2.06.94z\"/><path d=\"M17.41 7.96l-1.37-1.37c-.4-.4-.92-.59-1.43-.59-.52 0-1.04.2-1.43.59L10.3 9.45l-7.72 7.72c-.78.78-.78 2.05 0 2.83L4 21.41c.39.39.9.59 1.41.59.51 0 1.02-.2 1.41-.59l7.78-7.78 2.81-2.81c.8-.78.8-2.07 0-2.86zM5.41 20L4 18.59l7.72-7.72 1.47 1.35L5.41 20z\"/>\n",
              "  </svg>\n",
              "      </button>\n",
              "      \n",
              "  <style>\n",
              "    .colab-df-container {\n",
              "      display:flex;\n",
              "      flex-wrap:wrap;\n",
              "      gap: 12px;\n",
              "    }\n",
              "\n",
              "    .colab-df-convert {\n",
              "      background-color: #E8F0FE;\n",
              "      border: none;\n",
              "      border-radius: 50%;\n",
              "      cursor: pointer;\n",
              "      display: none;\n",
              "      fill: #1967D2;\n",
              "      height: 32px;\n",
              "      padding: 0 0 0 0;\n",
              "      width: 32px;\n",
              "    }\n",
              "\n",
              "    .colab-df-convert:hover {\n",
              "      background-color: #E2EBFA;\n",
              "      box-shadow: 0px 1px 2px rgba(60, 64, 67, 0.3), 0px 1px 3px 1px rgba(60, 64, 67, 0.15);\n",
              "      fill: #174EA6;\n",
              "    }\n",
              "\n",
              "    [theme=dark] .colab-df-convert {\n",
              "      background-color: #3B4455;\n",
              "      fill: #D2E3FC;\n",
              "    }\n",
              "\n",
              "    [theme=dark] .colab-df-convert:hover {\n",
              "      background-color: #434B5C;\n",
              "      box-shadow: 0px 1px 3px 1px rgba(0, 0, 0, 0.15);\n",
              "      filter: drop-shadow(0px 1px 2px rgba(0, 0, 0, 0.3));\n",
              "      fill: #FFFFFF;\n",
              "    }\n",
              "  </style>\n",
              "\n",
              "      <script>\n",
              "        const buttonEl =\n",
              "          document.querySelector('#df-125722a6-c34a-454b-b9ea-56b93274a253 button.colab-df-convert');\n",
              "        buttonEl.style.display =\n",
              "          google.colab.kernel.accessAllowed ? 'block' : 'none';\n",
              "\n",
              "        async function convertToInteractive(key) {\n",
              "          const element = document.querySelector('#df-125722a6-c34a-454b-b9ea-56b93274a253');\n",
              "          const dataTable =\n",
              "            await google.colab.kernel.invokeFunction('convertToInteractive',\n",
              "                                                     [key], {});\n",
              "          if (!dataTable) return;\n",
              "\n",
              "          const docLinkHtml = 'Like what you see? Visit the ' +\n",
              "            '<a target=\"_blank\" href=https://colab.research.google.com/notebooks/data_table.ipynb>data table notebook</a>'\n",
              "            + ' to learn more about interactive tables.';\n",
              "          element.innerHTML = '';\n",
              "          dataTable['output_type'] = 'display_data';\n",
              "          await google.colab.output.renderOutput(dataTable, element);\n",
              "          const docLink = document.createElement('div');\n",
              "          docLink.innerHTML = docLinkHtml;\n",
              "          element.appendChild(docLink);\n",
              "        }\n",
              "      </script>\n",
              "    </div>\n",
              "  </div>\n",
              "  "
            ]
          },
          "metadata": {},
          "execution_count": 62
        }
      ]
    },
    {
      "cell_type": "code",
      "source": [
        "tr_data['Expression Label'].value_counts()"
      ],
      "metadata": {
        "colab": {
          "base_uri": "https://localhost:8080/"
        },
        "id": "iwOJoOrZA29n",
        "outputId": "b1eba612-3f7a-48d5-9cf9-9111d35ab347"
      },
      "execution_count": null,
      "outputs": [
        {
          "output_type": "execute_result",
          "data": {
            "text/plain": [
              "positive    624\n",
              "negative    407\n",
              "Name: Expression Label, dtype: int64"
            ]
          },
          "metadata": {},
          "execution_count": 63
        }
      ]
    },
    {
      "cell_type": "code",
      "source": [
        "positive1 = (tr_data['Expression Label'].value_counts()[0]/1031)*100\n",
        "negative1=(tr_data['Expression Label'].value_counts()[1]/1031)*100\n",
        "positive1"
      ],
      "metadata": {
        "id": "FwMq1H_vA2yZ",
        "colab": {
          "base_uri": "https://localhost:8080/"
        },
        "outputId": "d0b72706-fb8b-474d-c70d-04b48a882c7d"
      },
      "execution_count": null,
      "outputs": [
        {
          "output_type": "execute_result",
          "data": {
            "text/plain": [
              "60.52376333656644"
            ]
          },
          "metadata": {},
          "execution_count": 67
        }
      ]
    },
    {
      "cell_type": "code",
      "source": [
        "politicians=['Donald Trump','Joe Biden']\n",
        "list_pos=[positive1,positive]\n",
        "list_neg=[negative1,negative]"
      ],
      "metadata": {
        "id": "p3An1O_B9aQV"
      },
      "execution_count": null,
      "outputs": []
    },
    {
      "cell_type": "code",
      "source": [
        "import plotly\n",
        "from plotly import graph_objs as go"
      ],
      "metadata": {
        "id": "iDayDqcM9aNe"
      },
      "execution_count": null,
      "outputs": []
    },
    {
      "cell_type": "markdown",
      "source": [
        "#visualization datasets"
      ],
      "metadata": {
        "id": "VLsFWGqjE4kI"
      }
    },
    {
      "cell_type": "code",
      "source": [
        ""
      ],
      "metadata": {
        "id": "j_lMkoYdE4Tv"
      },
      "execution_count": null,
      "outputs": []
    },
    {
      "cell_type": "code",
      "source": [
        "fig= go.Figure(data=[\n",
        "                     go.Bar(name='positive',x=politicians,y=list_pos),\n",
        "                     go.Bar(name='negative',x=politicians,y=list_neg)\n",
        "])\n",
        "fig.show()"
      ],
      "metadata": {
        "colab": {
          "base_uri": "https://localhost:8080/",
          "height": 542
        },
        "id": "BZJl6ISI9aI7",
        "outputId": "0872cf30-7bae-4829-fc97-827d2b4f5611"
      },
      "execution_count": null,
      "outputs": [
        {
          "output_type": "display_data",
          "data": {
            "text/html": [
              "<html>\n",
              "<head><meta charset=\"utf-8\" /></head>\n",
              "<body>\n",
              "    <div>            <script src=\"https://cdnjs.cloudflare.com/ajax/libs/mathjax/2.7.5/MathJax.js?config=TeX-AMS-MML_SVG\"></script><script type=\"text/javascript\">if (window.MathJax) {MathJax.Hub.Config({SVG: {font: \"STIX-Web\"}});}</script>                <script type=\"text/javascript\">window.PlotlyConfig = {MathJaxConfig: 'local'};</script>\n",
              "        <script src=\"https://cdn.plot.ly/plotly-2.8.3.min.js\"></script>                <div id=\"ce6a0bed-f82b-443a-a89c-70784ee5ee81\" class=\"plotly-graph-div\" style=\"height:525px; width:100%;\"></div>            <script type=\"text/javascript\">                                    window.PLOTLYENV=window.PLOTLYENV || {};                                    if (document.getElementById(\"ce6a0bed-f82b-443a-a89c-70784ee5ee81\")) {                    Plotly.newPlot(                        \"ce6a0bed-f82b-443a-a89c-70784ee5ee81\",                        [{\"name\":\"positive\",\"x\":[\"Donald Trump\",\"Joe Biden\"],\"y\":[60.52376333656644,54.909365558912384],\"type\":\"bar\"},{\"name\":\"negative\",\"x\":[\"Donald Trump\",\"Joe Biden\"],\"y\":[39.47623666343356,45.090634441087616],\"type\":\"bar\"}],                        {\"template\":{\"data\":{\"bar\":[{\"error_x\":{\"color\":\"#2a3f5f\"},\"error_y\":{\"color\":\"#2a3f5f\"},\"marker\":{\"line\":{\"color\":\"#E5ECF6\",\"width\":0.5},\"pattern\":{\"fillmode\":\"overlay\",\"size\":10,\"solidity\":0.2}},\"type\":\"bar\"}],\"barpolar\":[{\"marker\":{\"line\":{\"color\":\"#E5ECF6\",\"width\":0.5},\"pattern\":{\"fillmode\":\"overlay\",\"size\":10,\"solidity\":0.2}},\"type\":\"barpolar\"}],\"carpet\":[{\"aaxis\":{\"endlinecolor\":\"#2a3f5f\",\"gridcolor\":\"white\",\"linecolor\":\"white\",\"minorgridcolor\":\"white\",\"startlinecolor\":\"#2a3f5f\"},\"baxis\":{\"endlinecolor\":\"#2a3f5f\",\"gridcolor\":\"white\",\"linecolor\":\"white\",\"minorgridcolor\":\"white\",\"startlinecolor\":\"#2a3f5f\"},\"type\":\"carpet\"}],\"choropleth\":[{\"colorbar\":{\"outlinewidth\":0,\"ticks\":\"\"},\"type\":\"choropleth\"}],\"contour\":[{\"colorbar\":{\"outlinewidth\":0,\"ticks\":\"\"},\"colorscale\":[[0.0,\"#0d0887\"],[0.1111111111111111,\"#46039f\"],[0.2222222222222222,\"#7201a8\"],[0.3333333333333333,\"#9c179e\"],[0.4444444444444444,\"#bd3786\"],[0.5555555555555556,\"#d8576b\"],[0.6666666666666666,\"#ed7953\"],[0.7777777777777778,\"#fb9f3a\"],[0.8888888888888888,\"#fdca26\"],[1.0,\"#f0f921\"]],\"type\":\"contour\"}],\"contourcarpet\":[{\"colorbar\":{\"outlinewidth\":0,\"ticks\":\"\"},\"type\":\"contourcarpet\"}],\"heatmap\":[{\"colorbar\":{\"outlinewidth\":0,\"ticks\":\"\"},\"colorscale\":[[0.0,\"#0d0887\"],[0.1111111111111111,\"#46039f\"],[0.2222222222222222,\"#7201a8\"],[0.3333333333333333,\"#9c179e\"],[0.4444444444444444,\"#bd3786\"],[0.5555555555555556,\"#d8576b\"],[0.6666666666666666,\"#ed7953\"],[0.7777777777777778,\"#fb9f3a\"],[0.8888888888888888,\"#fdca26\"],[1.0,\"#f0f921\"]],\"type\":\"heatmap\"}],\"heatmapgl\":[{\"colorbar\":{\"outlinewidth\":0,\"ticks\":\"\"},\"colorscale\":[[0.0,\"#0d0887\"],[0.1111111111111111,\"#46039f\"],[0.2222222222222222,\"#7201a8\"],[0.3333333333333333,\"#9c179e\"],[0.4444444444444444,\"#bd3786\"],[0.5555555555555556,\"#d8576b\"],[0.6666666666666666,\"#ed7953\"],[0.7777777777777778,\"#fb9f3a\"],[0.8888888888888888,\"#fdca26\"],[1.0,\"#f0f921\"]],\"type\":\"heatmapgl\"}],\"histogram\":[{\"marker\":{\"pattern\":{\"fillmode\":\"overlay\",\"size\":10,\"solidity\":0.2}},\"type\":\"histogram\"}],\"histogram2d\":[{\"colorbar\":{\"outlinewidth\":0,\"ticks\":\"\"},\"colorscale\":[[0.0,\"#0d0887\"],[0.1111111111111111,\"#46039f\"],[0.2222222222222222,\"#7201a8\"],[0.3333333333333333,\"#9c179e\"],[0.4444444444444444,\"#bd3786\"],[0.5555555555555556,\"#d8576b\"],[0.6666666666666666,\"#ed7953\"],[0.7777777777777778,\"#fb9f3a\"],[0.8888888888888888,\"#fdca26\"],[1.0,\"#f0f921\"]],\"type\":\"histogram2d\"}],\"histogram2dcontour\":[{\"colorbar\":{\"outlinewidth\":0,\"ticks\":\"\"},\"colorscale\":[[0.0,\"#0d0887\"],[0.1111111111111111,\"#46039f\"],[0.2222222222222222,\"#7201a8\"],[0.3333333333333333,\"#9c179e\"],[0.4444444444444444,\"#bd3786\"],[0.5555555555555556,\"#d8576b\"],[0.6666666666666666,\"#ed7953\"],[0.7777777777777778,\"#fb9f3a\"],[0.8888888888888888,\"#fdca26\"],[1.0,\"#f0f921\"]],\"type\":\"histogram2dcontour\"}],\"mesh3d\":[{\"colorbar\":{\"outlinewidth\":0,\"ticks\":\"\"},\"type\":\"mesh3d\"}],\"parcoords\":[{\"line\":{\"colorbar\":{\"outlinewidth\":0,\"ticks\":\"\"}},\"type\":\"parcoords\"}],\"pie\":[{\"automargin\":true,\"type\":\"pie\"}],\"scatter\":[{\"marker\":{\"colorbar\":{\"outlinewidth\":0,\"ticks\":\"\"}},\"type\":\"scatter\"}],\"scatter3d\":[{\"line\":{\"colorbar\":{\"outlinewidth\":0,\"ticks\":\"\"}},\"marker\":{\"colorbar\":{\"outlinewidth\":0,\"ticks\":\"\"}},\"type\":\"scatter3d\"}],\"scattercarpet\":[{\"marker\":{\"colorbar\":{\"outlinewidth\":0,\"ticks\":\"\"}},\"type\":\"scattercarpet\"}],\"scattergeo\":[{\"marker\":{\"colorbar\":{\"outlinewidth\":0,\"ticks\":\"\"}},\"type\":\"scattergeo\"}],\"scattergl\":[{\"marker\":{\"colorbar\":{\"outlinewidth\":0,\"ticks\":\"\"}},\"type\":\"scattergl\"}],\"scattermapbox\":[{\"marker\":{\"colorbar\":{\"outlinewidth\":0,\"ticks\":\"\"}},\"type\":\"scattermapbox\"}],\"scatterpolar\":[{\"marker\":{\"colorbar\":{\"outlinewidth\":0,\"ticks\":\"\"}},\"type\":\"scatterpolar\"}],\"scatterpolargl\":[{\"marker\":{\"colorbar\":{\"outlinewidth\":0,\"ticks\":\"\"}},\"type\":\"scatterpolargl\"}],\"scatterternary\":[{\"marker\":{\"colorbar\":{\"outlinewidth\":0,\"ticks\":\"\"}},\"type\":\"scatterternary\"}],\"surface\":[{\"colorbar\":{\"outlinewidth\":0,\"ticks\":\"\"},\"colorscale\":[[0.0,\"#0d0887\"],[0.1111111111111111,\"#46039f\"],[0.2222222222222222,\"#7201a8\"],[0.3333333333333333,\"#9c179e\"],[0.4444444444444444,\"#bd3786\"],[0.5555555555555556,\"#d8576b\"],[0.6666666666666666,\"#ed7953\"],[0.7777777777777778,\"#fb9f3a\"],[0.8888888888888888,\"#fdca26\"],[1.0,\"#f0f921\"]],\"type\":\"surface\"}],\"table\":[{\"cells\":{\"fill\":{\"color\":\"#EBF0F8\"},\"line\":{\"color\":\"white\"}},\"header\":{\"fill\":{\"color\":\"#C8D4E3\"},\"line\":{\"color\":\"white\"}},\"type\":\"table\"}]},\"layout\":{\"annotationdefaults\":{\"arrowcolor\":\"#2a3f5f\",\"arrowhead\":0,\"arrowwidth\":1},\"autotypenumbers\":\"strict\",\"coloraxis\":{\"colorbar\":{\"outlinewidth\":0,\"ticks\":\"\"}},\"colorscale\":{\"diverging\":[[0,\"#8e0152\"],[0.1,\"#c51b7d\"],[0.2,\"#de77ae\"],[0.3,\"#f1b6da\"],[0.4,\"#fde0ef\"],[0.5,\"#f7f7f7\"],[0.6,\"#e6f5d0\"],[0.7,\"#b8e186\"],[0.8,\"#7fbc41\"],[0.9,\"#4d9221\"],[1,\"#276419\"]],\"sequential\":[[0.0,\"#0d0887\"],[0.1111111111111111,\"#46039f\"],[0.2222222222222222,\"#7201a8\"],[0.3333333333333333,\"#9c179e\"],[0.4444444444444444,\"#bd3786\"],[0.5555555555555556,\"#d8576b\"],[0.6666666666666666,\"#ed7953\"],[0.7777777777777778,\"#fb9f3a\"],[0.8888888888888888,\"#fdca26\"],[1.0,\"#f0f921\"]],\"sequentialminus\":[[0.0,\"#0d0887\"],[0.1111111111111111,\"#46039f\"],[0.2222222222222222,\"#7201a8\"],[0.3333333333333333,\"#9c179e\"],[0.4444444444444444,\"#bd3786\"],[0.5555555555555556,\"#d8576b\"],[0.6666666666666666,\"#ed7953\"],[0.7777777777777778,\"#fb9f3a\"],[0.8888888888888888,\"#fdca26\"],[1.0,\"#f0f921\"]]},\"colorway\":[\"#636efa\",\"#EF553B\",\"#00cc96\",\"#ab63fa\",\"#FFA15A\",\"#19d3f3\",\"#FF6692\",\"#B6E880\",\"#FF97FF\",\"#FECB52\"],\"font\":{\"color\":\"#2a3f5f\"},\"geo\":{\"bgcolor\":\"white\",\"lakecolor\":\"white\",\"landcolor\":\"#E5ECF6\",\"showlakes\":true,\"showland\":true,\"subunitcolor\":\"white\"},\"hoverlabel\":{\"align\":\"left\"},\"hovermode\":\"closest\",\"mapbox\":{\"style\":\"light\"},\"paper_bgcolor\":\"white\",\"plot_bgcolor\":\"#E5ECF6\",\"polar\":{\"angularaxis\":{\"gridcolor\":\"white\",\"linecolor\":\"white\",\"ticks\":\"\"},\"bgcolor\":\"#E5ECF6\",\"radialaxis\":{\"gridcolor\":\"white\",\"linecolor\":\"white\",\"ticks\":\"\"}},\"scene\":{\"xaxis\":{\"backgroundcolor\":\"#E5ECF6\",\"gridcolor\":\"white\",\"gridwidth\":2,\"linecolor\":\"white\",\"showbackground\":true,\"ticks\":\"\",\"zerolinecolor\":\"white\"},\"yaxis\":{\"backgroundcolor\":\"#E5ECF6\",\"gridcolor\":\"white\",\"gridwidth\":2,\"linecolor\":\"white\",\"showbackground\":true,\"ticks\":\"\",\"zerolinecolor\":\"white\"},\"zaxis\":{\"backgroundcolor\":\"#E5ECF6\",\"gridcolor\":\"white\",\"gridwidth\":2,\"linecolor\":\"white\",\"showbackground\":true,\"ticks\":\"\",\"zerolinecolor\":\"white\"}},\"shapedefaults\":{\"line\":{\"color\":\"#2a3f5f\"}},\"ternary\":{\"aaxis\":{\"gridcolor\":\"white\",\"linecolor\":\"white\",\"ticks\":\"\"},\"baxis\":{\"gridcolor\":\"white\",\"linecolor\":\"white\",\"ticks\":\"\"},\"bgcolor\":\"#E5ECF6\",\"caxis\":{\"gridcolor\":\"white\",\"linecolor\":\"white\",\"ticks\":\"\"}},\"title\":{\"x\":0.05},\"xaxis\":{\"automargin\":true,\"gridcolor\":\"white\",\"linecolor\":\"white\",\"ticks\":\"\",\"title\":{\"standoff\":15},\"zerolinecolor\":\"white\",\"zerolinewidth\":2},\"yaxis\":{\"automargin\":true,\"gridcolor\":\"white\",\"linecolor\":\"white\",\"ticks\":\"\",\"title\":{\"standoff\":15},\"zerolinecolor\":\"white\",\"zerolinewidth\":2}}}},                        {\"responsive\": true}                    ).then(function(){\n",
              "                            \n",
              "var gd = document.getElementById('ce6a0bed-f82b-443a-a89c-70784ee5ee81');\n",
              "var x = new MutationObserver(function (mutations, observer) {{\n",
              "        var display = window.getComputedStyle(gd).display;\n",
              "        if (!display || display === 'none') {{\n",
              "            console.log([gd, 'removed!']);\n",
              "            Plotly.purge(gd);\n",
              "            observer.disconnect();\n",
              "        }}\n",
              "}});\n",
              "\n",
              "// Listen for the removal of the full notebook cells\n",
              "var notebookContainer = gd.closest('#notebook-container');\n",
              "if (notebookContainer) {{\n",
              "    x.observe(notebookContainer, {childList: true});\n",
              "}}\n",
              "\n",
              "// Listen for the clearing of the current output cell\n",
              "var outputEl = gd.closest('.output');\n",
              "if (outputEl) {{\n",
              "    x.observe(outputEl, {childList: true});\n",
              "}}\n",
              "\n",
              "                        })                };                            </script>        </div>\n",
              "</body>\n",
              "</html>"
            ]
          },
          "metadata": {}
        }
      ]
    },
    {
      "cell_type": "code",
      "source": [
        ""
      ],
      "metadata": {
        "id": "Ou_bVcVX9aF9"
      },
      "execution_count": null,
      "outputs": []
    },
    {
      "cell_type": "code",
      "source": [
        ""
      ],
      "metadata": {
        "id": "QXgE0Nq_9aDH"
      },
      "execution_count": null,
      "outputs": []
    },
    {
      "cell_type": "markdown",
      "source": [
        " TextBlob Advantages and Disadvantages:\n",
        "\n",
        "Advantages:\n",
        "1. TextBlob is built on the shoulders of NLTK and Pattern, therefore it is simple for beginners by providing an intuitive interface to NLTK.\n",
        "2. TextBlob provides functions such as language translation and detection which is powered by Google Translate.\n",
        "\n",
        "Disadvantages:\n",
        "1. TextBlob is little slower in the comparison to spacy but faster than NLTK. (Spacy > TextBlob > NLTK)\n",
        "2. TextBlob does not provide features like dependency parsing, word vectors etc. which is provided by spacy"
      ],
      "metadata": {
        "id": "fJcThLK8HNz2"
      }
    },
    {
      "cell_type": "code",
      "source": [
        ""
      ],
      "metadata": {
        "id": "XHjtQwtsFIxS"
      },
      "execution_count": null,
      "outputs": []
    }
  ]
}